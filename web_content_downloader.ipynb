{
 "cells": [
  {
   "cell_type": "code",
   "execution_count": null,
   "metadata": {},
   "outputs": [],
   "source": [
    "from bs4 import BeautifulSoup\n",
    "import requests\n",
    "import os\n",
    "import glob\n",
    "\n",
    "download_dir = 'downloads'\n",
    "\n",
    "if not os.path.exists(download_dir):\n",
    "    os.makedirs(download_dir)\n",
    "    print(f\"Created {download_dir}\")\n",
    "\n",
    "# Check if there is any HTML file in the root directory\n",
    "if glob.glob(\"./*.html\"):\n",
    "    user_input = input(\"HTML file(s) found in the root directory. What would you like to do? \")\n",
    "else:\n",
    "    html_source = input(\"Enter the URL to download: \")\n",
    "\n",
    "soup = BeautifulSoup(requests.get(html_source).content, 'html.parser')\n",
    "links = [a['href'] for a in soup.find_all('a', href=True)]\n",
    "\n",
    "for link in links:\n",
    "    filename = link.split('/')[-1]\n",
    "    filepath = os.path.join(download_dir, filename)\n",
    "    with open(filepath, 'wb') as file:\n",
    "        response = requests.get(link)\n",
    "        file.write(response.content)\n",
    "    print(f\"Downloaded {filename}\")"
   ]
  }
 ],
 "metadata": {
  "language_info": {
   "name": "python"
  }
 },
 "nbformat": 4,
 "nbformat_minor": 2
}
